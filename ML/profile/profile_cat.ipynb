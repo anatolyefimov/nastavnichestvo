{
 "cells": [
  {
   "cell_type": "code",
   "execution_count": 1,
   "metadata": {},
   "outputs": [],
   "source": [
    "import sklearn\n",
    "import pandas as pd\n",
    "import numpy as np\n",
    "from sklearn import preprocessing\n",
    "import collections\n",
    "import pendulum\n",
    "from sklearn.model_selection import train_test_split\n",
    "from sklearn.model_selection import cross_val_score\n",
    "from sklearn.linear_model import LogisticRegression\n",
    "from sklearn.neighbors import KNeighborsClassifier as KNN"
   ]
  },
  {
   "cell_type": "code",
   "execution_count": 2,
   "metadata": {},
   "outputs": [
    {
     "data": {
      "text/html": [
       "<div>\n",
       "<style scoped>\n",
       "    .dataframe tbody tr th:only-of-type {\n",
       "        vertical-align: middle;\n",
       "    }\n",
       "\n",
       "    .dataframe tbody tr th {\n",
       "        vertical-align: top;\n",
       "    }\n",
       "\n",
       "    .dataframe thead th {\n",
       "        text-align: right;\n",
       "    }\n",
       "</style>\n",
       "<table border=\"1\" class=\"dataframe\">\n",
       "  <thead>\n",
       "    <tr style=\"text-align: right;\">\n",
       "      <th></th>\n",
       "      <th>Id</th>\n",
       "      <th>Birth date</th>\n",
       "      <th>Confession</th>\n",
       "      <th>Health status</th>\n",
       "      <th>Martial status</th>\n",
       "      <th>Child age</th>\n",
       "      <th>Child gender</th>\n",
       "      <th>Invalid child</th>\n",
       "      <th>Reports</th>\n",
       "      <th>Photo rights</th>\n",
       "      <th>Статус</th>\n",
       "      <th>Created at</th>\n",
       "      <th>Russian citizenship</th>\n",
       "      <th>Education</th>\n",
       "    </tr>\n",
       "  </thead>\n",
       "  <tbody>\n",
       "    <tr>\n",
       "      <th>1</th>\n",
       "      <td>3</td>\n",
       "      <td>28 февраля 1990</td>\n",
       "      <td>Православие</td>\n",
       "      <td>отлично</td>\n",
       "      <td>Не женат (не замужем)</td>\n",
       "      <td>16</td>\n",
       "      <td>Мужской</td>\n",
       "      <td>True</td>\n",
       "      <td>True</td>\n",
       "      <td>True</td>\n",
       "      <td>approved</td>\n",
       "      <td>сентября 27, 2015 15:15</td>\n",
       "      <td>True</td>\n",
       "      <td>Университет, Институт, техникум</td>\n",
       "    </tr>\n",
       "    <tr>\n",
       "      <th>2</th>\n",
       "      <td>4</td>\n",
       "      <td>30 ноября 1984</td>\n",
       "      <td>Православие</td>\n",
       "      <td>отлично</td>\n",
       "      <td>Гражданский брак</td>\n",
       "      <td>14</td>\n",
       "      <td>Не имеет значения</td>\n",
       "      <td>True</td>\n",
       "      <td>True</td>\n",
       "      <td>True</td>\n",
       "      <td>approved</td>\n",
       "      <td>октября 15, 2015 11:34</td>\n",
       "      <td>True</td>\n",
       "      <td>Университет, Институт, техникум</td>\n",
       "    </tr>\n",
       "    <tr>\n",
       "      <th>3</th>\n",
       "      <td>5</td>\n",
       "      <td>27 марта 1984</td>\n",
       "      <td>Православие</td>\n",
       "      <td>хорошо</td>\n",
       "      <td>Женат (замужем)</td>\n",
       "      <td>12</td>\n",
       "      <td>Не имеет значения</td>\n",
       "      <td>True</td>\n",
       "      <td>True</td>\n",
       "      <td>True</td>\n",
       "      <td>approved</td>\n",
       "      <td>октября 23, 2015 06:46</td>\n",
       "      <td>True</td>\n",
       "      <td>Университет, Институт, техникум,Общеобразовате...</td>\n",
       "    </tr>\n",
       "    <tr>\n",
       "      <th>4</th>\n",
       "      <td>6</td>\n",
       "      <td>18 марта 1981</td>\n",
       "      <td>Православие</td>\n",
       "      <td>отлично</td>\n",
       "      <td>Женат (замужем)</td>\n",
       "      <td>17</td>\n",
       "      <td>Мужской</td>\n",
       "      <td>True</td>\n",
       "      <td>True</td>\n",
       "      <td>True</td>\n",
       "      <td>approved</td>\n",
       "      <td>октября 25, 2015 08:55</td>\n",
       "      <td>True</td>\n",
       "      <td>- ,Университет, Институт, техникум</td>\n",
       "    </tr>\n",
       "    <tr>\n",
       "      <th>5</th>\n",
       "      <td>7</td>\n",
       "      <td>19 ноября 1992</td>\n",
       "      <td>Православие</td>\n",
       "      <td>хорошо</td>\n",
       "      <td>Гражданский брак</td>\n",
       "      <td>12</td>\n",
       "      <td>Женский</td>\n",
       "      <td>False</td>\n",
       "      <td>True</td>\n",
       "      <td>True</td>\n",
       "      <td>new</td>\n",
       "      <td>октября 26, 2015 09:49</td>\n",
       "      <td>True</td>\n",
       "      <td>Университет, Институт, техникум</td>\n",
       "    </tr>\n",
       "  </tbody>\n",
       "</table>\n",
       "</div>"
      ],
      "text/plain": [
       "   Id       Birth date   Confession Health status         Martial status  \\\n",
       "1   3  28 февраля 1990  Православие       отлично  Не женат (не замужем)   \n",
       "2   4   30 ноября 1984  Православие       отлично       Гражданский брак   \n",
       "3   5    27 марта 1984  Православие        хорошо        Женат (замужем)   \n",
       "4   6    18 марта 1981  Православие       отлично        Женат (замужем)   \n",
       "5   7   19 ноября 1992  Православие        хорошо       Гражданский брак   \n",
       "\n",
       "  Child age       Child gender  Invalid child  Reports  Photo rights  \\\n",
       "1        16            Мужской           True     True          True   \n",
       "2        14  Не имеет значения           True     True          True   \n",
       "3        12  Не имеет значения           True     True          True   \n",
       "4        17            Мужской           True     True          True   \n",
       "5        12            Женский          False     True          True   \n",
       "\n",
       "     Статус               Created at  Russian citizenship  \\\n",
       "1  approved  сентября 27, 2015 15:15                 True   \n",
       "2  approved   октября 15, 2015 11:34                 True   \n",
       "3  approved   октября 23, 2015 06:46                 True   \n",
       "4  approved   октября 25, 2015 08:55                 True   \n",
       "5       new   октября 26, 2015 09:49                 True   \n",
       "\n",
       "                                           Education  \n",
       "1                    Университет, Институт, техникум  \n",
       "2                    Университет, Институт, техникум  \n",
       "3  Университет, Институт, техникум,Общеобразовате...  \n",
       "4                 - ,Университет, Институт, техникум  \n",
       "5                    Университет, Институт, техникум  "
      ]
     },
     "execution_count": 2,
     "metadata": {},
     "output_type": "execute_result"
    }
   ],
   "source": [
    "data = pd.read_csv(\"data/data_cat.csv\", sep=',')\n",
    "data.drop([0], axis=0, inplace=True)\n",
    "data.head()"
   ]
  },
  {
   "cell_type": "code",
   "execution_count": 3,
   "metadata": {},
   "outputs": [],
   "source": [
    "data = data.fillna('-')"
   ]
  },
  {
   "cell_type": "code",
   "execution_count": 4,
   "metadata": {},
   "outputs": [],
   "source": [
    "ed = list(data['Education'])\n",
    "dop = [0] * len(ed)\n",
    "univer = [0] * len(ed)\n",
    "for i in range(len(ed)):\n",
    "    if 'Университет' in ed[i]:\n",
    "        univer[i] = 1\n",
    "    if 'курсы' in ed[i]:\n",
    "        dop[i] = 1"
   ]
  },
  {
   "cell_type": "code",
   "execution_count": 5,
   "metadata": {},
   "outputs": [],
   "source": [
    "data['Univer'] = univer\n",
    "data['Course'] = dop\n",
    "data.drop(['Education', 'Confession'], axis=1, inplace=True)"
   ]
  },
  {
   "cell_type": "code",
   "execution_count": 6,
   "metadata": {},
   "outputs": [
    {
     "data": {
      "text/html": [
       "<div>\n",
       "<style scoped>\n",
       "    .dataframe tbody tr th:only-of-type {\n",
       "        vertical-align: middle;\n",
       "    }\n",
       "\n",
       "    .dataframe tbody tr th {\n",
       "        vertical-align: top;\n",
       "    }\n",
       "\n",
       "    .dataframe thead th {\n",
       "        text-align: right;\n",
       "    }\n",
       "</style>\n",
       "<table border=\"1\" class=\"dataframe\">\n",
       "  <thead>\n",
       "    <tr style=\"text-align: right;\">\n",
       "      <th></th>\n",
       "      <th>Id</th>\n",
       "      <th>Birth date</th>\n",
       "      <th>Health status</th>\n",
       "      <th>Martial status</th>\n",
       "      <th>Child age</th>\n",
       "      <th>Child gender</th>\n",
       "      <th>Invalid child</th>\n",
       "      <th>Reports</th>\n",
       "      <th>Photo rights</th>\n",
       "      <th>Статус</th>\n",
       "      <th>Created at</th>\n",
       "      <th>Russian citizenship</th>\n",
       "      <th>Univer</th>\n",
       "      <th>Course</th>\n",
       "    </tr>\n",
       "  </thead>\n",
       "  <tbody>\n",
       "    <tr>\n",
       "      <th>1</th>\n",
       "      <td>3</td>\n",
       "      <td>28 февраля 1990</td>\n",
       "      <td>отлично</td>\n",
       "      <td>Не женат (не замужем)</td>\n",
       "      <td>16</td>\n",
       "      <td>Мужской</td>\n",
       "      <td>True</td>\n",
       "      <td>True</td>\n",
       "      <td>True</td>\n",
       "      <td>approved</td>\n",
       "      <td>сентября 27, 2015 15:15</td>\n",
       "      <td>True</td>\n",
       "      <td>1</td>\n",
       "      <td>0</td>\n",
       "    </tr>\n",
       "    <tr>\n",
       "      <th>2</th>\n",
       "      <td>4</td>\n",
       "      <td>30 ноября 1984</td>\n",
       "      <td>отлично</td>\n",
       "      <td>Гражданский брак</td>\n",
       "      <td>14</td>\n",
       "      <td>Не имеет значения</td>\n",
       "      <td>True</td>\n",
       "      <td>True</td>\n",
       "      <td>True</td>\n",
       "      <td>approved</td>\n",
       "      <td>октября 15, 2015 11:34</td>\n",
       "      <td>True</td>\n",
       "      <td>1</td>\n",
       "      <td>0</td>\n",
       "    </tr>\n",
       "    <tr>\n",
       "      <th>3</th>\n",
       "      <td>5</td>\n",
       "      <td>27 марта 1984</td>\n",
       "      <td>хорошо</td>\n",
       "      <td>Женат (замужем)</td>\n",
       "      <td>12</td>\n",
       "      <td>Не имеет значения</td>\n",
       "      <td>True</td>\n",
       "      <td>True</td>\n",
       "      <td>True</td>\n",
       "      <td>approved</td>\n",
       "      <td>октября 23, 2015 06:46</td>\n",
       "      <td>True</td>\n",
       "      <td>1</td>\n",
       "      <td>0</td>\n",
       "    </tr>\n",
       "    <tr>\n",
       "      <th>4</th>\n",
       "      <td>6</td>\n",
       "      <td>18 марта 1981</td>\n",
       "      <td>отлично</td>\n",
       "      <td>Женат (замужем)</td>\n",
       "      <td>17</td>\n",
       "      <td>Мужской</td>\n",
       "      <td>True</td>\n",
       "      <td>True</td>\n",
       "      <td>True</td>\n",
       "      <td>approved</td>\n",
       "      <td>октября 25, 2015 08:55</td>\n",
       "      <td>True</td>\n",
       "      <td>1</td>\n",
       "      <td>0</td>\n",
       "    </tr>\n",
       "    <tr>\n",
       "      <th>5</th>\n",
       "      <td>7</td>\n",
       "      <td>19 ноября 1992</td>\n",
       "      <td>хорошо</td>\n",
       "      <td>Гражданский брак</td>\n",
       "      <td>12</td>\n",
       "      <td>Женский</td>\n",
       "      <td>False</td>\n",
       "      <td>True</td>\n",
       "      <td>True</td>\n",
       "      <td>new</td>\n",
       "      <td>октября 26, 2015 09:49</td>\n",
       "      <td>True</td>\n",
       "      <td>1</td>\n",
       "      <td>0</td>\n",
       "    </tr>\n",
       "  </tbody>\n",
       "</table>\n",
       "</div>"
      ],
      "text/plain": [
       "   Id       Birth date Health status         Martial status Child age  \\\n",
       "1   3  28 февраля 1990       отлично  Не женат (не замужем)        16   \n",
       "2   4   30 ноября 1984       отлично       Гражданский брак        14   \n",
       "3   5    27 марта 1984        хорошо        Женат (замужем)        12   \n",
       "4   6    18 марта 1981       отлично        Женат (замужем)        17   \n",
       "5   7   19 ноября 1992        хорошо       Гражданский брак        12   \n",
       "\n",
       "        Child gender  Invalid child  Reports  Photo rights    Статус  \\\n",
       "1            Мужской           True     True          True  approved   \n",
       "2  Не имеет значения           True     True          True  approved   \n",
       "3  Не имеет значения           True     True          True  approved   \n",
       "4            Мужской           True     True          True  approved   \n",
       "5            Женский          False     True          True       new   \n",
       "\n",
       "                Created at  Russian citizenship  Univer  Course  \n",
       "1  сентября 27, 2015 15:15                 True       1       0  \n",
       "2   октября 15, 2015 11:34                 True       1       0  \n",
       "3   октября 23, 2015 06:46                 True       1       0  \n",
       "4   октября 25, 2015 08:55                 True       1       0  \n",
       "5   октября 26, 2015 09:49                 True       1       0  "
      ]
     },
     "execution_count": 6,
     "metadata": {},
     "output_type": "execute_result"
    }
   ],
   "source": [
    "data.head()"
   ]
  },
  {
   "cell_type": "code",
   "execution_count": 7,
   "metadata": {},
   "outputs": [],
   "source": [
    "age = []\n",
    "for i in list(data['Birth date']):\n",
    "    age.append(2019 - int(i[-4:]))"
   ]
  },
  {
   "cell_type": "code",
   "execution_count": 8,
   "metadata": {},
   "outputs": [],
   "source": [
    "data['age'] = age\n",
    "data.drop(['Birth date'], axis=1, inplace=True)"
   ]
  },
  {
   "cell_type": "code",
   "execution_count": 9,
   "metadata": {},
   "outputs": [],
   "source": [
    "data = data.loc[data['age'] >= 15]"
   ]
  },
  {
   "cell_type": "code",
   "execution_count": 10,
   "metadata": {},
   "outputs": [],
   "source": [
    "data.drop(['Child age'], axis=1, inplace=True)"
   ]
  },
  {
   "cell_type": "code",
   "execution_count": 11,
   "metadata": {},
   "outputs": [
    {
     "data": {
      "text/html": [
       "<div>\n",
       "<style scoped>\n",
       "    .dataframe tbody tr th:only-of-type {\n",
       "        vertical-align: middle;\n",
       "    }\n",
       "\n",
       "    .dataframe tbody tr th {\n",
       "        vertical-align: top;\n",
       "    }\n",
       "\n",
       "    .dataframe thead th {\n",
       "        text-align: right;\n",
       "    }\n",
       "</style>\n",
       "<table border=\"1\" class=\"dataframe\">\n",
       "  <thead>\n",
       "    <tr style=\"text-align: right;\">\n",
       "      <th></th>\n",
       "      <th>Id</th>\n",
       "      <th>Health status</th>\n",
       "      <th>Martial status</th>\n",
       "      <th>Child gender</th>\n",
       "      <th>Invalid child</th>\n",
       "      <th>Reports</th>\n",
       "      <th>Photo rights</th>\n",
       "      <th>Статус</th>\n",
       "      <th>Created at</th>\n",
       "      <th>Russian citizenship</th>\n",
       "      <th>Univer</th>\n",
       "      <th>Course</th>\n",
       "      <th>age</th>\n",
       "    </tr>\n",
       "  </thead>\n",
       "  <tbody>\n",
       "    <tr>\n",
       "      <th>1</th>\n",
       "      <td>3</td>\n",
       "      <td>отлично</td>\n",
       "      <td>Не женат (не замужем)</td>\n",
       "      <td>Мужской</td>\n",
       "      <td>True</td>\n",
       "      <td>True</td>\n",
       "      <td>True</td>\n",
       "      <td>approved</td>\n",
       "      <td>сентября 27, 2015 15:15</td>\n",
       "      <td>True</td>\n",
       "      <td>1</td>\n",
       "      <td>0</td>\n",
       "      <td>29</td>\n",
       "    </tr>\n",
       "    <tr>\n",
       "      <th>2</th>\n",
       "      <td>4</td>\n",
       "      <td>отлично</td>\n",
       "      <td>Гражданский брак</td>\n",
       "      <td>Не имеет значения</td>\n",
       "      <td>True</td>\n",
       "      <td>True</td>\n",
       "      <td>True</td>\n",
       "      <td>approved</td>\n",
       "      <td>октября 15, 2015 11:34</td>\n",
       "      <td>True</td>\n",
       "      <td>1</td>\n",
       "      <td>0</td>\n",
       "      <td>35</td>\n",
       "    </tr>\n",
       "    <tr>\n",
       "      <th>3</th>\n",
       "      <td>5</td>\n",
       "      <td>хорошо</td>\n",
       "      <td>Женат (замужем)</td>\n",
       "      <td>Не имеет значения</td>\n",
       "      <td>True</td>\n",
       "      <td>True</td>\n",
       "      <td>True</td>\n",
       "      <td>approved</td>\n",
       "      <td>октября 23, 2015 06:46</td>\n",
       "      <td>True</td>\n",
       "      <td>1</td>\n",
       "      <td>0</td>\n",
       "      <td>35</td>\n",
       "    </tr>\n",
       "    <tr>\n",
       "      <th>4</th>\n",
       "      <td>6</td>\n",
       "      <td>отлично</td>\n",
       "      <td>Женат (замужем)</td>\n",
       "      <td>Мужской</td>\n",
       "      <td>True</td>\n",
       "      <td>True</td>\n",
       "      <td>True</td>\n",
       "      <td>approved</td>\n",
       "      <td>октября 25, 2015 08:55</td>\n",
       "      <td>True</td>\n",
       "      <td>1</td>\n",
       "      <td>0</td>\n",
       "      <td>38</td>\n",
       "    </tr>\n",
       "    <tr>\n",
       "      <th>5</th>\n",
       "      <td>7</td>\n",
       "      <td>хорошо</td>\n",
       "      <td>Гражданский брак</td>\n",
       "      <td>Женский</td>\n",
       "      <td>False</td>\n",
       "      <td>True</td>\n",
       "      <td>True</td>\n",
       "      <td>new</td>\n",
       "      <td>октября 26, 2015 09:49</td>\n",
       "      <td>True</td>\n",
       "      <td>1</td>\n",
       "      <td>0</td>\n",
       "      <td>27</td>\n",
       "    </tr>\n",
       "  </tbody>\n",
       "</table>\n",
       "</div>"
      ],
      "text/plain": [
       "   Id Health status         Martial status       Child gender  Invalid child  \\\n",
       "1   3       отлично  Не женат (не замужем)            Мужской           True   \n",
       "2   4       отлично       Гражданский брак  Не имеет значения           True   \n",
       "3   5        хорошо        Женат (замужем)  Не имеет значения           True   \n",
       "4   6       отлично        Женат (замужем)            Мужской           True   \n",
       "5   7        хорошо       Гражданский брак            Женский          False   \n",
       "\n",
       "   Reports  Photo rights    Статус               Created at  \\\n",
       "1     True          True  approved  сентября 27, 2015 15:15   \n",
       "2     True          True  approved   октября 15, 2015 11:34   \n",
       "3     True          True  approved   октября 23, 2015 06:46   \n",
       "4     True          True  approved   октября 25, 2015 08:55   \n",
       "5     True          True       new   октября 26, 2015 09:49   \n",
       "\n",
       "   Russian citizenship  Univer  Course  age  \n",
       "1                 True       1       0   29  \n",
       "2                 True       1       0   35  \n",
       "3                 True       1       0   35  \n",
       "4                 True       1       0   38  \n",
       "5                 True       1       0   27  "
      ]
     },
     "execution_count": 11,
     "metadata": {},
     "output_type": "execute_result"
    }
   ],
   "source": [
    "data.head()"
   ]
  },
  {
   "cell_type": "code",
   "execution_count": 12,
   "metadata": {},
   "outputs": [
    {
     "name": "stdout",
     "output_type": "stream",
     "text": [
      "['approved', 'new']\n",
      "['отлично', 'средне', 'хорошо']\n",
      "['Вдовец (вдова)', 'Гражданский брак', 'Женат (замужем)', 'Не женат (не замужем)', 'Разведён (разведена)']\n",
      "['Женский', 'Мужской', 'Не имеет значения']\n",
      "[False, True]\n",
      "[False, True]\n",
      "[False, True]\n",
      "[False, True]\n"
     ]
    }
   ],
   "source": [
    "le = preprocessing.LabelEncoder()\n",
    "le.fit(data['Статус'])\n",
    "print(list(le.classes_))\n",
    "data['Status'] = le.transform(data['Статус'])\n",
    "data.drop(['Статус'], axis=1, inplace=True)\n",
    "\n",
    "le = preprocessing.LabelEncoder()\n",
    "le.fit(data['Health status'])\n",
    "print(list(le.classes_))\n",
    "data['Health'] = le.transform(data['Health status'])\n",
    "data.drop(['Health status'], axis=1, inplace=True)\n",
    "\n",
    "le = preprocessing.LabelEncoder()\n",
    "le.fit(data['Martial status'])\n",
    "print(list(le.classes_))\n",
    "data['Martial status'] = le.transform(data['Martial status'])\n",
    "\n",
    "le = preprocessing.LabelEncoder()\n",
    "le.fit(data['Child gender'])\n",
    "print(list(le.classes_))\n",
    "data['Child gender'] = le.transform(data['Child gender'])\n",
    "\n",
    "le = preprocessing.LabelEncoder()\n",
    "le.fit(data['Invalid child'])\n",
    "print(list(le.classes_))\n",
    "data['Invalid child'] = le.transform(data['Invalid child'])\n",
    "\n",
    "le = preprocessing.LabelEncoder()\n",
    "le.fit(data['Reports'])\n",
    "print(list(le.classes_))\n",
    "data['Reports'] = le.transform(data['Reports'])\n",
    "\n",
    "le = preprocessing.LabelEncoder()\n",
    "le.fit(data['Russian citizenship'])\n",
    "print(list(le.classes_))\n",
    "data['Russian citizenship'] = le.transform(data['Russian citizenship'])\n",
    "\n",
    "le = preprocessing.LabelEncoder()\n",
    "le.fit(data['Photo rights'])\n",
    "print(list(le.classes_))\n",
    "data['Photo rights'] = le.transform(data['Photo rights'])"
   ]
  },
  {
   "cell_type": "code",
   "execution_count": 15,
   "metadata": {},
   "outputs": [],
   "source": [
    "st0 = data.loc[data['Status']==0]\n",
    "st1 = data.loc[data['Status']==1]"
   ]
  },
  {
   "cell_type": "code",
   "execution_count": 16,
   "metadata": {},
   "outputs": [
    {
     "data": {
      "text/plain": [
       "Counter({1: 78, 0: 3})"
      ]
     },
     "execution_count": 16,
     "metadata": {},
     "output_type": "execute_result"
    }
   ],
   "source": [
    "collections.Counter(st0['Photo rights'])"
   ]
  },
  {
   "cell_type": "code",
   "execution_count": 17,
   "metadata": {},
   "outputs": [
    {
     "data": {
      "text/plain": [
       "Counter({1: 1091, 0: 93})"
      ]
     },
     "execution_count": 17,
     "metadata": {},
     "output_type": "execute_result"
    }
   ],
   "source": [
    "collections.Counter(st1['Photo rights'])"
   ]
  },
  {
   "cell_type": "code",
   "execution_count": 18,
   "metadata": {},
   "outputs": [
    {
     "data": {
      "text/plain": [
       "Counter({1: 81})"
      ]
     },
     "execution_count": 18,
     "metadata": {},
     "output_type": "execute_result"
    }
   ],
   "source": [
    "collections.Counter(st0['Reports'])"
   ]
  },
  {
   "cell_type": "code",
   "execution_count": 19,
   "metadata": {},
   "outputs": [
    {
     "data": {
      "text/plain": [
       "Counter({1: 1170, 0: 14})"
      ]
     },
     "execution_count": 19,
     "metadata": {},
     "output_type": "execute_result"
    }
   ],
   "source": [
    "collections.Counter(st1['Reports'])"
   ]
  },
  {
   "cell_type": "code",
   "execution_count": 20,
   "metadata": {},
   "outputs": [
    {
     "data": {
      "text/plain": [
       "Counter({1: 81})"
      ]
     },
     "execution_count": 20,
     "metadata": {},
     "output_type": "execute_result"
    }
   ],
   "source": [
    "collections.Counter(st0['Russian citizenship'])"
   ]
  },
  {
   "cell_type": "code",
   "execution_count": 21,
   "metadata": {},
   "outputs": [
    {
     "data": {
      "text/plain": [
       "Counter({1: 1151, 0: 33})"
      ]
     },
     "execution_count": 21,
     "metadata": {},
     "output_type": "execute_result"
    }
   ],
   "source": [
    "collections.Counter(st1['Russian citizenship'])"
   ]
  },
  {
   "cell_type": "code",
   "execution_count": 438,
   "metadata": {},
   "outputs": [
    {
     "data": {
      "text/html": [
       "<div>\n",
       "<style scoped>\n",
       "    .dataframe tbody tr th:only-of-type {\n",
       "        vertical-align: middle;\n",
       "    }\n",
       "\n",
       "    .dataframe tbody tr th {\n",
       "        vertical-align: top;\n",
       "    }\n",
       "\n",
       "    .dataframe thead th {\n",
       "        text-align: right;\n",
       "    }\n",
       "</style>\n",
       "<table border=\"1\" class=\"dataframe\">\n",
       "  <thead>\n",
       "    <tr style=\"text-align: right;\">\n",
       "      <th></th>\n",
       "      <th>Id</th>\n",
       "      <th>Martial status</th>\n",
       "      <th>Child gender</th>\n",
       "      <th>Invalid child</th>\n",
       "      <th>Reports</th>\n",
       "      <th>Photo rights</th>\n",
       "      <th>Created at</th>\n",
       "      <th>Russian citizenship</th>\n",
       "      <th>Univer</th>\n",
       "      <th>Course</th>\n",
       "      <th>age</th>\n",
       "      <th>Status</th>\n",
       "      <th>Health</th>\n",
       "    </tr>\n",
       "  </thead>\n",
       "  <tbody>\n",
       "    <tr>\n",
       "      <th>1</th>\n",
       "      <td>3</td>\n",
       "      <td>3</td>\n",
       "      <td>1</td>\n",
       "      <td>1</td>\n",
       "      <td>1</td>\n",
       "      <td>1</td>\n",
       "      <td>сентября 27, 2015 15:15</td>\n",
       "      <td>1</td>\n",
       "      <td>1</td>\n",
       "      <td>0</td>\n",
       "      <td>29</td>\n",
       "      <td>0</td>\n",
       "      <td>0</td>\n",
       "    </tr>\n",
       "    <tr>\n",
       "      <th>2</th>\n",
       "      <td>4</td>\n",
       "      <td>1</td>\n",
       "      <td>2</td>\n",
       "      <td>1</td>\n",
       "      <td>1</td>\n",
       "      <td>1</td>\n",
       "      <td>октября 15, 2015 11:34</td>\n",
       "      <td>1</td>\n",
       "      <td>1</td>\n",
       "      <td>0</td>\n",
       "      <td>35</td>\n",
       "      <td>0</td>\n",
       "      <td>0</td>\n",
       "    </tr>\n",
       "    <tr>\n",
       "      <th>3</th>\n",
       "      <td>5</td>\n",
       "      <td>2</td>\n",
       "      <td>2</td>\n",
       "      <td>1</td>\n",
       "      <td>1</td>\n",
       "      <td>1</td>\n",
       "      <td>октября 23, 2015 06:46</td>\n",
       "      <td>1</td>\n",
       "      <td>1</td>\n",
       "      <td>0</td>\n",
       "      <td>35</td>\n",
       "      <td>0</td>\n",
       "      <td>2</td>\n",
       "    </tr>\n",
       "    <tr>\n",
       "      <th>4</th>\n",
       "      <td>6</td>\n",
       "      <td>2</td>\n",
       "      <td>1</td>\n",
       "      <td>1</td>\n",
       "      <td>1</td>\n",
       "      <td>1</td>\n",
       "      <td>октября 25, 2015 08:55</td>\n",
       "      <td>1</td>\n",
       "      <td>1</td>\n",
       "      <td>0</td>\n",
       "      <td>38</td>\n",
       "      <td>0</td>\n",
       "      <td>0</td>\n",
       "    </tr>\n",
       "    <tr>\n",
       "      <th>5</th>\n",
       "      <td>7</td>\n",
       "      <td>1</td>\n",
       "      <td>0</td>\n",
       "      <td>0</td>\n",
       "      <td>1</td>\n",
       "      <td>1</td>\n",
       "      <td>октября 26, 2015 09:49</td>\n",
       "      <td>1</td>\n",
       "      <td>1</td>\n",
       "      <td>0</td>\n",
       "      <td>27</td>\n",
       "      <td>1</td>\n",
       "      <td>2</td>\n",
       "    </tr>\n",
       "  </tbody>\n",
       "</table>\n",
       "</div>"
      ],
      "text/plain": [
       "   Id  Martial status  Child gender  Invalid child  Reports  Photo rights  \\\n",
       "1   3               3             1              1        1             1   \n",
       "2   4               1             2              1        1             1   \n",
       "3   5               2             2              1        1             1   \n",
       "4   6               2             1              1        1             1   \n",
       "5   7               1             0              0        1             1   \n",
       "\n",
       "                Created at  Russian citizenship  Univer  Course  age  Status  \\\n",
       "1  сентября 27, 2015 15:15                    1       1       0   29       0   \n",
       "2   октября 15, 2015 11:34                    1       1       0   35       0   \n",
       "3   октября 23, 2015 06:46                    1       1       0   35       0   \n",
       "4   октября 25, 2015 08:55                    1       1       0   38       0   \n",
       "5   октября 26, 2015 09:49                    1       1       0   27       1   \n",
       "\n",
       "   Health  \n",
       "1       0  \n",
       "2       0  \n",
       "3       2  \n",
       "4       0  \n",
       "5       2  "
      ]
     },
     "execution_count": 438,
     "metadata": {},
     "output_type": "execute_result"
    }
   ],
   "source": [
    "data.head()"
   ]
  },
  {
   "cell_type": "code",
   "execution_count": 439,
   "metadata": {},
   "outputs": [],
   "source": [
    "data = data.iloc[:-100]"
   ]
  },
  {
   "cell_type": "code",
   "execution_count": 440,
   "metadata": {},
   "outputs": [
    {
     "name": "stdout",
     "output_type": "stream",
     "text": [
      "<class 'pandas.core.frame.DataFrame'>\n",
      "Int64Index: 1165 entries, 1 to 1208\n",
      "Data columns (total 13 columns):\n",
      "Id                     1165 non-null int64\n",
      "Martial status         1165 non-null int64\n",
      "Child gender           1165 non-null int64\n",
      "Invalid child          1165 non-null int64\n",
      "Reports                1165 non-null int64\n",
      "Photo rights           1165 non-null int64\n",
      "Created at             1165 non-null object\n",
      "Russian citizenship    1165 non-null int64\n",
      "Univer                 1165 non-null int64\n",
      "Course                 1165 non-null int64\n",
      "age                    1165 non-null int64\n",
      "Status                 1165 non-null int64\n",
      "Health                 1165 non-null int64\n",
      "dtypes: int64(12), object(1)\n",
      "memory usage: 127.4+ KB\n"
     ]
    }
   ],
   "source": [
    "data.info()"
   ]
  },
  {
   "cell_type": "code",
   "execution_count": 441,
   "metadata": {},
   "outputs": [],
   "source": [
    "data.drop(['Created at'], axis=1, inplace=True)"
   ]
  },
  {
   "cell_type": "code",
   "execution_count": 442,
   "metadata": {},
   "outputs": [],
   "source": [
    "# st0 = data.loc[data['Status']==0]\n",
    "# \n",
    "# st1 = data.loc[data['Status']==1].sample(frac=1).iloc[:81]\n",
    "# \n",
    "# data = st0.append(st1)\n",
    "# \n",
    "# data = data.sample(frac=1)"
   ]
  },
  {
   "cell_type": "code",
   "execution_count": 443,
   "metadata": {},
   "outputs": [],
   "source": [
    "X = data.drop(['Status'], axis=1)\n",
    "y = data['Status']"
   ]
  },
  {
   "cell_type": "code",
   "execution_count": null,
   "metadata": {},
   "outputs": [],
   "source": []
  },
  {
   "cell_type": "code",
   "execution_count": 444,
   "metadata": {},
   "outputs": [],
   "source": [
    "X_train, X_test, y_train, y_test = train_test_split(X, y, test_size=0.33, random_state=214, shuffle=True)"
   ]
  },
  {
   "cell_type": "code",
   "execution_count": 445,
   "metadata": {},
   "outputs": [
    {
     "data": {
      "text/plain": [
       "Counter({1: 722, 0: 58})"
      ]
     },
     "execution_count": 445,
     "metadata": {},
     "output_type": "execute_result"
    }
   ],
   "source": [
    "collections.Counter(y_train)"
   ]
  },
  {
   "cell_type": "code",
   "execution_count": 446,
   "metadata": {},
   "outputs": [
    {
     "data": {
      "text/plain": [
       "Counter({1: 362, 0: 23})"
      ]
     },
     "execution_count": 446,
     "metadata": {},
     "output_type": "execute_result"
    }
   ],
   "source": [
    "collections.Counter(y_test)"
   ]
  },
  {
   "cell_type": "code",
   "execution_count": 447,
   "metadata": {},
   "outputs": [
    {
     "data": {
      "text/plain": [
       "0.060085836909871244"
      ]
     },
     "execution_count": 447,
     "metadata": {},
     "output_type": "execute_result"
    }
   ],
   "source": [
    "14/233"
   ]
  },
  {
   "cell_type": "code",
   "execution_count": 448,
   "metadata": {},
   "outputs": [
    {
     "data": {
      "text/plain": [
       "0.07188841201716738"
      ]
     },
     "execution_count": 448,
     "metadata": {},
     "output_type": "execute_result"
    }
   ],
   "source": [
    "67/932"
   ]
  },
  {
   "cell_type": "code",
   "execution_count": 449,
   "metadata": {},
   "outputs": [],
   "source": [
    "clf = LogisticRegression(random_state=0, solver='liblinear').fit(X_train, y_train)"
   ]
  },
  {
   "cell_type": "code",
   "execution_count": 450,
   "metadata": {},
   "outputs": [
    {
     "data": {
      "text/plain": [
       "0.9402597402597402"
      ]
     },
     "execution_count": 450,
     "metadata": {},
     "output_type": "execute_result"
    }
   ],
   "source": [
    "clf.score(X_test, y_test)"
   ]
  },
  {
   "cell_type": "code",
   "execution_count": 451,
   "metadata": {},
   "outputs": [],
   "source": [
    "clf = KNN().fit(X_train, y_train)"
   ]
  },
  {
   "cell_type": "code",
   "execution_count": 452,
   "metadata": {},
   "outputs": [
    {
     "data": {
      "text/plain": [
       "0.9324675324675324"
      ]
     },
     "execution_count": 452,
     "metadata": {},
     "output_type": "execute_result"
    }
   ],
   "source": [
    "clf.score(X_test, y_test)"
   ]
  },
  {
   "cell_type": "code",
   "execution_count": 453,
   "metadata": {},
   "outputs": [
    {
     "data": {
      "text/plain": [
       "0.8779220779220779"
      ]
     },
     "execution_count": 453,
     "metadata": {},
     "output_type": "execute_result"
    }
   ],
   "source": [
    "from sklearn import tree\n",
    "clf = tree.DecisionTreeClassifier(random_state=0)\n",
    "clf = clf.fit(X_train, y_train)\n",
    "clf.score(X_test, y_test)"
   ]
  },
  {
   "cell_type": "code",
   "execution_count": 454,
   "metadata": {},
   "outputs": [
    {
     "name": "stderr",
     "output_type": "stream",
     "text": [
      "/home/caym/Programs/anaconda3/lib/python3.7/site-packages/sklearn/ensemble/forest.py:245: FutureWarning: The default value of n_estimators will change from 10 in version 0.20 to 100 in 0.22.\n",
      "  \"10 in version 0.20 to 100 in 0.22.\", FutureWarning)\n"
     ]
    },
    {
     "data": {
      "text/plain": [
       "0.9272727272727272"
      ]
     },
     "execution_count": 454,
     "metadata": {},
     "output_type": "execute_result"
    }
   ],
   "source": [
    "from sklearn.ensemble import RandomForestClassifier\n",
    "clf = RandomForestClassifier(random_state=0)\n",
    "clf = clf.fit(X_train, y_train)\n",
    "clf.score(X_test, y_test)"
   ]
  },
  {
   "cell_type": "code",
   "execution_count": 458,
   "metadata": {},
   "outputs": [],
   "source": [
    "grid_param = {\n",
    "    'n_estimators': [100, 300, 500, 800, 1000],\n",
    "    'criterion': ['gini', 'entropy'],\n",
    "    'bootstrap': [True, False]\n",
    "}\n",
    "\n",
    "gd_sr = GridSearchCV(estimator=clf,\n",
    "                     param_grid=grid_param,\n",
    "                     scoring='accuracy',\n",
    "                     cv=5,\n",
    "                     n_jobs=-1)"
   ]
  },
  {
   "cell_type": "code",
   "execution_count": 459,
   "metadata": {},
   "outputs": [
    {
     "data": {
      "text/plain": [
       "GridSearchCV(cv=5, error_score='raise-deprecating',\n",
       "             estimator=RandomForestClassifier(bootstrap=True, class_weight=None,\n",
       "                                              criterion='gini', max_depth=None,\n",
       "                                              max_features='auto',\n",
       "                                              max_leaf_nodes=None,\n",
       "                                              min_impurity_decrease=0.0,\n",
       "                                              min_impurity_split=None,\n",
       "                                              min_samples_leaf=1,\n",
       "                                              min_samples_split=2,\n",
       "                                              min_weight_fraction_leaf=0.0,\n",
       "                                              n_estimators=10, n_jobs=None,\n",
       "                                              oob_score=False, random_state=0,\n",
       "                                              verbose=0, warm_start=False),\n",
       "             iid='warn', n_jobs=-1,\n",
       "             param_grid={'bootstrap': [True, False],\n",
       "                         'criterion': ['gini', 'entropy'],\n",
       "                         'n_estimators': [100, 300, 500, 800, 1000]},\n",
       "             pre_dispatch='2*n_jobs', refit=True, return_train_score=False,\n",
       "             scoring='accuracy', verbose=0)"
      ]
     },
     "execution_count": 459,
     "metadata": {},
     "output_type": "execute_result"
    }
   ],
   "source": [
    "gd_sr.fit(X_train, y_train)"
   ]
  },
  {
   "cell_type": "code",
   "execution_count": 460,
   "metadata": {},
   "outputs": [
    {
     "data": {
      "text/plain": [
       "0.935064935064935"
      ]
     },
     "execution_count": 460,
     "metadata": {},
     "output_type": "execute_result"
    }
   ],
   "source": [
    "gd_sr.score(X_test, y_test)"
   ]
  },
  {
   "cell_type": "code",
   "execution_count": null,
   "metadata": {},
   "outputs": [],
   "source": []
  },
  {
   "cell_type": "code",
   "execution_count": 413,
   "metadata": {},
   "outputs": [],
   "source": [
    "y_pred = clf.predict(X_test)"
   ]
  },
  {
   "cell_type": "code",
   "execution_count": 414,
   "metadata": {},
   "outputs": [],
   "source": [
    "y_true = np.array(y_test)"
   ]
  },
  {
   "cell_type": "code",
   "execution_count": 415,
   "metadata": {},
   "outputs": [
    {
     "data": {
      "text/plain": [
       "0.9620596205962059"
      ]
     },
     "execution_count": 415,
     "metadata": {},
     "output_type": "execute_result"
    }
   ],
   "source": [
    "from sklearn.metrics import f1_score\n",
    "f1_score(y_true, y_pred)"
   ]
  },
  {
   "cell_type": "code",
   "execution_count": 461,
   "metadata": {},
   "outputs": [
    {
     "data": {
      "text/plain": [
       "0.9428571428571428"
      ]
     },
     "execution_count": 461,
     "metadata": {},
     "output_type": "execute_result"
    }
   ],
   "source": [
    "from sklearn.ensemble import GradientBoostingClassifier\n",
    "clf = GradientBoostingClassifier(random_state=0, n_estimators=100, learning_rate=0.1, max_depth=3)\n",
    "clf = clf.fit(X_train, y_train)\n",
    "clf.score(X_test, y_test)"
   ]
  },
  {
   "cell_type": "code",
   "execution_count": 363,
   "metadata": {},
   "outputs": [
    {
     "data": {
      "text/plain": [
       "array([1, 1, 1, 0, 1, 0, 0, 1, 1, 0, 1, 1, 1, 0, 0, 0, 0, 0, 0, 0, 0, 1,\n",
       "       0, 0, 1, 1, 0, 0, 0, 1, 1, 0, 1, 0, 0, 0, 1, 1, 0, 0, 1, 1, 1, 0,\n",
       "       1, 0, 0, 1, 0, 0, 1, 1, 1, 0])"
      ]
     },
     "execution_count": 363,
     "metadata": {},
     "output_type": "execute_result"
    }
   ],
   "source": [
    "clf.predict(X_test)"
   ]
  },
  {
   "cell_type": "code",
   "execution_count": 364,
   "metadata": {},
   "outputs": [
    {
     "data": {
      "text/plain": [
       "Counter({1: 24, 0: 30})"
      ]
     },
     "execution_count": 364,
     "metadata": {},
     "output_type": "execute_result"
    }
   ],
   "source": [
    "collections.Counter(y_test)"
   ]
  },
  {
   "cell_type": "code",
   "execution_count": 365,
   "metadata": {},
   "outputs": [
    {
     "name": "stdout",
     "output_type": "stream",
     "text": [
      "0.35185185185185186\n",
      "{'criterion': 'friedman_mse', 'learning_rate': 0.2, 'loss': 'deviance', 'max_depth': 5, 'max_features': 'sqrt', 'min_samples_leaf': 0.1, 'min_samples_split': 0.26, 'n_estimators': 10, 'subsample': 0.9}\n"
     ]
    },
    {
     "name": "stderr",
     "output_type": "stream",
     "text": [
      "/home/caym/Programs/anaconda3/lib/python3.7/site-packages/sklearn/model_selection/_search.py:813: DeprecationWarning: The default of the `iid` parameter will change from True to False in version 0.22 and will be removed in 0.24. This will change numeric results when test-set sizes are unequal.\n",
      "  DeprecationWarning)\n"
     ]
    }
   ],
   "source": [
    "from sklearn.model_selection import GridSearchCV\n",
    "parameters = {\n",
    "    \"loss\":[\"deviance\"],\n",
    "    \"learning_rate\": [0.01, 0.05, 0.1, 0.2],\n",
    "    \"min_samples_split\": np.linspace(0.1, 0.5, 6),\n",
    "    \"min_samples_leaf\": np.linspace(0.1, 0.5, 6),\n",
    "    \"max_depth\":[3,5,8],\n",
    "    \"max_features\":[\"log2\",\"sqrt\"],\n",
    "    \"criterion\": [\"friedman_mse\",  \"mae\"],\n",
    "    \"subsample\":[0.5, 0.8, 0.9, 1.0],\n",
    "    \"n_estimators\":[10]\n",
    "    }\n",
    "\n",
    "clf = GridSearchCV(GradientBoostingClassifier(), parameters, cv=10, n_jobs=-1)\n",
    "\n",
    "clf.fit(X_train, y_train)\n",
    "print(clf.score(X_test, y_test))\n",
    "print(clf.best_params_)"
   ]
  },
  {
   "cell_type": "code",
   "execution_count": 371,
   "metadata": {},
   "outputs": [],
   "source": [
    "y_pred = clf.predict(X_test)"
   ]
  },
  {
   "cell_type": "code",
   "execution_count": 372,
   "metadata": {},
   "outputs": [],
   "source": [
    "y_true = np.array(y_test)"
   ]
  },
  {
   "cell_type": "code",
   "execution_count": 375,
   "metadata": {},
   "outputs": [],
   "source": [
    "y_1 = []\n",
    "for i in y_true:\n",
    "    if i == 1:\n",
    "        y_1.append(0)\n",
    "    else:\n",
    "        y_1.append(1)\n",
    "y_true = np.array(y_1)"
   ]
  },
  {
   "cell_type": "code",
   "execution_count": 377,
   "metadata": {},
   "outputs": [
    {
     "data": {
      "text/plain": [
       "0.6984126984126984"
      ]
     },
     "execution_count": 377,
     "metadata": {},
     "output_type": "execute_result"
    }
   ],
   "source": [
    "from sklearn.metrics import accuracy_score\n",
    "from sklearn.metrics import f1_score\n",
    "f1_score(y_true, y_pred)"
   ]
  },
  {
   "cell_type": "code",
   "execution_count": null,
   "metadata": {},
   "outputs": [],
   "source": []
  }
 ],
 "metadata": {
  "kernelspec": {
   "display_name": "Python 3",
   "language": "python",
   "name": "python3"
  },
  "language_info": {
   "codemirror_mode": {
    "name": "ipython",
    "version": 3
   },
   "file_extension": ".py",
   "mimetype": "text/x-python",
   "name": "python",
   "nbconvert_exporter": "python",
   "pygments_lexer": "ipython3",
   "version": "3.7.3"
  }
 },
 "nbformat": 4,
 "nbformat_minor": 4
}
